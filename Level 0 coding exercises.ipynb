{
 "cells": [
  {
   "cell_type": "code",
   "execution_count": null,
   "id": "bfd02c25",
   "metadata": {},
   "outputs": [],
   "source": [
    "#task1 - chkd\n",
    "x = 0\n",
    "y = 1\n",
    "print(x)\n",
    "print(y)\n",
    "x += 3\n",
    "y += x\n",
    "print(x)\n",
    "print(y)"
   ]
  },
  {
   "cell_type": "code",
   "execution_count": null,
   "id": "3119de84",
   "metadata": {},
   "outputs": [],
   "source": [
    "#task2 - chkd\n",
    "x = 1 + 1 * 2\n",
    "y = (1 + 1) * 2\n",
    "z = 1 + ( 1 * 2 )\n",
    "a = 1 + 1 * 2 / 2\n",
    "b = (1 + 1 * 2 ) /  2\n",
    "\n",
    "print(f'x: {x}\\ny: {y}\\nz: {z}\\na: {a}\\nb: {b}')\n"
   ]
  },
  {
   "cell_type": "code",
   "execution_count": null,
   "id": "e19ab189",
   "metadata": {},
   "outputs": [],
   "source": [
    "#task3 - chkd\n",
    "def hello(name):\n",
    "    print(f\"Hello {name}!\")\n",
    "hello('Trevor')"
   ]
  },
  {
   "cell_type": "code",
   "execution_count": null,
   "id": "f0f9592a",
   "metadata": {},
   "outputs": [],
   "source": [
    "#task4 - chkd\n",
    "def even_or_odd(integer):\n",
    "    if integer % 2 == 0:\n",
    "        print('Even')\n",
    "    else:\n",
    "        print('Odd')"
   ]
  },
  {
   "cell_type": "code",
   "execution_count": null,
   "id": "d9120a2c",
   "metadata": {},
   "outputs": [],
   "source": [
    "#task5\n",
    "def area_triangle(side1, side2, side3):\n",
    "    semi_perimetre = 0.5 * (side1 + side2 + side3)\n",
    "    area = (semi_perimetre*(semi_perimetre-side1)*(semi_perimetre-side2)*(semi_perimetre-side3))**0.5\n",
    "    return f'Area of this triangle: {area} square units'\n",
    "\n",
    "a"
   ]
  },
  {
   "cell_type": "code",
   "execution_count": null,
   "id": "79dd5e83",
   "metadata": {},
   "outputs": [],
   "source": [
    "#task6 -chkd\n",
    "def maximum(*args):\n",
    "    numbers = list(args)\n",
    "    numbers.sort()\n",
    "    if numbers[0] == numbers[-1]:\n",
    "        return 'They are all equal'\n",
    "    else:    \n",
    "        return f'The maximum number is {numbers[-1]}'"
   ]
  },
  {
   "cell_type": "code",
   "execution_count": null,
   "id": "3021f173",
   "metadata": {
    "scrolled": true
   },
   "outputs": [],
   "source": [
    "#task7 -chkd\n",
    "def convert_celsius(celsius):\n",
    "    fah = (celsius * (9/5)) + 32 \n",
    "    return f'{fah:,.1f} °F.'\n",
    "\n",
    "def convert_fahrenheit(fahrenheit):\n",
    "    cels = (fahrenheit - 32) * (5/9)\n",
    "    return f'{cels:,.1f} °C'"
   ]
  },
  {
   "cell_type": "code",
   "execution_count": null,
   "id": "9f1a533a",
   "metadata": {},
   "outputs": [],
   "source": [
    "#task8 - chkd\n",
    "def time(number):\n",
    "    if number >= 60:\n",
    "        hour = int(number/60)\n",
    "        minute = number - int(number/60)*60\n",
    "        string_hour = ''\n",
    "        string_minute = ''\n",
    "        if hour > 1 or hour == 0:  \n",
    "            string_hour = f'{hour} hours'\n",
    "        elif hour == 1:\n",
    "            string_hour = f'{hour} hour'\n",
    "        if minute > 1 or minute == 0:\n",
    "            string_minute = f' {minute} minutes'\n",
    "        elif minute == 1:\n",
    "            string_minute = f' {minute} minute'\n",
    "        return string_hour + ',' + string_minute"
   ]
  },
  {
   "cell_type": "code",
   "execution_count": null,
   "id": "a804883d",
   "metadata": {},
   "outputs": [],
   "source": [
    "#task9 - chkd\n",
    "def vowels(string):\n",
    "    vowels = ['a', 'e', 'i', 'o', 'u']\n",
    "    string = string.lower()\n",
    "    string = list(string)\n",
    "    vwls_string = []\n",
    "    for i in string:\n",
    "        if i in vowels:\n",
    "            if i not in vwls_string:\n",
    "                vwls_string.append(i)\n",
    "    vwls_string = ', '.join(vwls_string)    \n",
    "    print(f'Vowels: {vwls_string}')"
   ]
  },
  {
   "cell_type": "code",
   "execution_count": null,
   "id": "2d89bb72",
   "metadata": {},
   "outputs": [],
   "source": [
    "#task10 - chkd\n",
    "def common_chars(string1, string2):\n",
    "    string1 = string1.lower()\n",
    "    string2 = string2.lower()\n",
    "    string1 = list(string1)\n",
    "    string2 = list(string2)\n",
    "    common_char = []\n",
    "    for i in string1:\n",
    "        if i in string2:\n",
    "            if i not in common_char:\n",
    "                common_char.append(i)\n",
    "    common_char = ', '.join(common_char)\n",
    "    if common_char == '':\n",
    "        print('There are no common characters between these words.')\n",
    "    else:\n",
    "        print(f'Common characters: {common_char}')"
   ]
  },
  {
   "cell_type": "code",
   "execution_count": null,
   "id": "f3fa0adc",
   "metadata": {},
   "outputs": [],
   "source": []
  }
 ],
 "metadata": {
  "kernelspec": {
   "display_name": "Python 3",
   "language": "python",
   "name": "python3"
  },
  "language_info": {
   "codemirror_mode": {
    "name": "ipython",
    "version": 3
   },
   "file_extension": ".py",
   "mimetype": "text/x-python",
   "name": "python",
   "nbconvert_exporter": "python",
   "pygments_lexer": "ipython3",
   "version": "3.8.8"
  }
 },
 "nbformat": 4,
 "nbformat_minor": 5
}
